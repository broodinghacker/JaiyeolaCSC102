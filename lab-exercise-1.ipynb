{
 "cells": [
  {
   "cell_type": "markdown",
   "metadata": {},
   "source": [
    "# Jaiyeola Ogunkannmi\n",
    "# 20120612022\n",
    "# jaiyeolaogunkanmi@gmail.com"
   ]
  },
  {
   "cell_type": "code",
   "execution_count": 2,
   "metadata": {},
   "outputs": [],
   "source": [
    "# EXCERCISE I\n",
    "\n",
    "# A python code to get the difference between a given number and 17, if the number is greater than 17 return double the absolute difference.\n"
   ]
  },
  {
   "cell_type": "code",
   "execution_count": 4,
   "metadata": {},
   "outputs": [
    {
     "name": "stdout",
     "output_type": "stream",
     "text": [
      "10\n",
      "-3\n"
     ]
    }
   ],
   "source": [
    "    a = 22\n",
    "    z = 14\n",
    "    b = 17 \n",
    "    c = a - b\n",
    "    d = z - b\n",
    "    \n",
    "    if a>b: \n",
    "        print (c*2) \n",
    "print (d)"
   ]
  },
  {
   "cell_type": "code",
   "execution_count": 5,
   "metadata": {},
   "outputs": [],
   "source": [
    "# Excercise II\n",
    "\n",
    "# A Python program to calculate the sum of three given numbers, if the values are equal then return thrice of their sum.\n"
   ]
  },
  {
   "cell_type": "code",
   "execution_count": 6,
   "metadata": {},
   "outputs": [
    {
     "name": "stdout",
     "output_type": "stream",
     "text": [
      "6\n",
      "27\n"
     ]
    }
   ],
   "source": [
    "a = 1\n",
    "b = 2\n",
    "c = 3\n",
    "d = 3\n",
    "e = 3 \n",
    "\n",
    "if a==b==c:\n",
    "    print ((a+b+c)*3)\n",
    "        \n",
    "else: \n",
    "    print (a+b+c)\n",
    "    \n",
    "if c==d==e:\n",
    "     print ((c+d+e)*3)\n",
    "        \n",
    "else: \n",
    "    print (c+d+e)"
   ]
  },
  {
   "cell_type": "code",
   "execution_count": 7,
   "metadata": {},
   "outputs": [],
   "source": [
    "# Excercise III \n",
    "\n",
    "# A Python program which will return true if the two given integer values are equal or their sum or difference is 5.\n"
   ]
  },
  {
   "cell_type": "code",
   "execution_count": 8,
   "metadata": {},
   "outputs": [
    {
     "name": "stdout",
     "output_type": "stream",
     "text": [
      "False\n",
      "True\n",
      "False\n"
     ]
    }
   ],
   "source": [
    "a=7\n",
    "b=2\n",
    "\n",
    "if a==b:\n",
    "    print (\"True\")\n",
    "else:\n",
    "    print (\"False\")\n",
    "\n",
    "if a-b==5:\n",
    "    print (\"True\")\n",
    "else:\n",
    "    print (\"False\")\n",
    "if a+b==5:\n",
    "    print (\"True\")\n",
    "else:\n",
    "    print(\"False\")\n"
   ]
  },
  {
   "cell_type": "code",
   "execution_count": 9,
   "metadata": {},
   "outputs": [],
   "source": [
    "# Excercise IV \n",
    "# A Python program to sort three integers without using conditional statements and loops.\n"
   ]
  },
  {
   "cell_type": "code",
   "execution_count": 19,
   "metadata": {},
   "outputs": [
    {
     "name": "stdout",
     "output_type": "stream",
     "text": [
      "3\n",
      "7\n",
      "8\n"
     ]
    }
   ],
   "source": [
    "t = (8,3,7)\n",
    "\n",
    "k = min(t)\n",
    "z = max(t)\n",
    "p = t[0]+t[1]+t[2]\n",
    "\n",
    "j = p-z-k\n",
    "\n",
    "print (k)\n",
    "print (j)\n",
    "print (z)"
   ]
  },
  {
   "cell_type": "code",
   "execution_count": 15,
   "metadata": {},
   "outputs": [],
   "source": [
    "# Excercise V\n",
    "# A Python function that takes a positive integer and returns the sum of the cube of all the positive integers smaller than the specified number.\n"
   ]
  },
  {
   "cell_type": "code",
   "execution_count": 13,
   "metadata": {},
   "outputs": [
    {
     "name": "stdout",
     "output_type": "stream",
     "text": [
      "Insert number6\n",
      "225\n"
     ]
    }
   ],
   "source": [
    "x = int(input(\"Insert number\"))\n",
    "y = list(range(1,x))\n",
    "k = 0;\n",
    "for i in y:\n",
    "    z = i**3\n",
    "    k = k + z\n",
    "print (k)"
   ]
  },
  {
   "cell_type": "code",
   "execution_count": null,
   "metadata": {},
   "outputs": [],
   "source": [
    "()"
   ]
  }
 ],
 "metadata": {
  "kernelspec": {
   "display_name": "Python 3",
   "language": "python",
   "name": "python3"
  },
  "language_info": {
   "codemirror_mode": {
    "name": "ipython",
    "version": 3
   },
   "file_extension": ".py",
   "mimetype": "text/x-python",
   "name": "python",
   "nbconvert_exporter": "python",
   "pygments_lexer": "ipython3",
   "version": "3.8.5"
  }
 },
 "nbformat": 4,
 "nbformat_minor": 4
}
