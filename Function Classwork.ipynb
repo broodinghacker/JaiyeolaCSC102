{
 "cells": [
  {
   "cell_type": "markdown",
   "metadata": {},
   "source": [
    "# CLASS EXERCISE\n",
    "\n",
    "A program for shutting down"
   ]
  },
  {
   "cell_type": "code",
   "execution_count": 2,
   "metadata": {},
   "outputs": [
    {
     "name": "stdout",
     "output_type": "stream",
     "text": [
      "Do you want to shut down?(yes / no):no\n",
      "Shutdown aborted\n",
      "None\n"
     ]
    }
   ],
   "source": [
    "def shut_down(x):\n",
    "    f=(\"\")\n",
    "    \n",
    "    if x == \"yes\":\n",
    "        print (\"Shutting down\")\n",
    "    elif x == \"no\":\n",
    "        print (\"Shutdown aborted\")\n",
    "    else:\n",
    "        print (\"Sorry such an arguement not welcome here\")\n",
    "        \n",
    "print(shut_down(input(\"Do you want to shut down?(yes / no):\" )))\n",
    "\n",
    "    "
   ]
  },
  {
   "cell_type": "markdown",
   "metadata": {},
   "source": [
    "# Question 2"
   ]
  },
  {
   "cell_type": "code",
   "execution_count": 1,
   "metadata": {},
   "outputs": [
    {
     "name": "stdout",
     "output_type": "stream",
     "text": [
      "Enter number of Employee:5\n",
      "Enter name: Jaiye\n",
      "Enter salary:150000000000\n",
      "\u001b[32mName:  Jaiye\n",
      "Salary:  150000000000\n",
      "\u001b[0m\n",
      "Enter name: Bruno\n",
      "Enter salary:520000\n",
      "\u001b[34mName:  Bruno\n",
      "Salary:  520000\n",
      "\u001b[0m\n",
      "Enter name: Bolaji\n",
      "Enter salary:666778\n",
      "\u001b[34mName:  Bolaji\n",
      "Salary:  666778\n",
      "\u001b[0m\n",
      "Enter name: Tioluwani\n",
      "Enter salary:30000000\n",
      "\u001b[32mName:  Tioluwani\n",
      "Salary:  30000000\n",
      "\u001b[0m\n",
      "Enter name: Janitor\n",
      "Enter salary:300000\n",
      "\u001b[31mWarning: No salary structure for employee \n",
      "\u001b[0m\n"
     ]
    }
   ],
   "source": [
    "import colorama\n",
    "from colorama import Fore, Style \n",
    "import pandas as pd\n",
    "import csv\n",
    "\n",
    "def showEmployee(c):\n",
    "    m=0\n",
    "    while m < c:\n",
    "        n=input(\"Enter name: \")\n",
    "        s=int(input(\"Enter salary:\"))\n",
    "        x={}\n",
    "        if (s>1000000):\n",
    "            print(Fore.GREEN + \"Name: \", n)\n",
    "            print(\"Salary: \", s)\n",
    "            print(Style.RESET_ALL)\n",
    "        elif  (s>500000)& (s<1000000):\n",
    "            print(Fore.BLUE + \"Name: \", n)\n",
    "            print(\"Salary: \", s)\n",
    "            print(Style.RESET_ALL)\n",
    "        else:\n",
    "            print(Fore.RED + \"Warning: No salary structure for employee \")\n",
    "            print(Style.RESET_ALL)\n",
    "        \n",
    "        field_names = ['No', 'Name', 'Salary']\n",
    "        x=[{'No':m, 'Name': n, 'Salary': s}]\n",
    "        with open('Names.csv', 'w') as csvfile:\n",
    "            writer = csv.DictWriter(csvfile, fieldnames = field_names)\n",
    "            writer.writeheader()\n",
    "            writer.writerows(x)\n",
    "        m+=1\n",
    "        \n",
    "c=int(input(\"Enter number of Employee:\"))\n",
    "\n",
    "showEmployee(c)\n"
   ]
  },
  {
   "cell_type": "markdown",
   "metadata": {},
   "source": [
    "# Question 3"
   ]
  },
  {
   "cell_type": "code",
   "execution_count": 8,
   "metadata": {},
   "outputs": [
    {
     "name": "stdout",
     "output_type": "stream",
     "text": [
      "Enter number:3\n"
     ]
    },
    {
     "data": {
      "text/plain": [
       "27.0"
      ]
     },
     "execution_count": 8,
     "metadata": {},
     "output_type": "execute_result"
    }
   ],
   "source": [
    "import math\n",
    "\n",
    "def cube(number):\n",
    "     return math.pow(number,3)\n",
    "def by_three(number):\n",
    "    if number%3 == 0:\n",
    "        return cube(number)\n",
    "    else:\n",
    "        return False\n",
    "number=float(input(\"Enter number:\"))\n",
    "by_three(number)"
   ]
  },
  {
   "cell_type": "code",
   "execution_count": null,
   "metadata": {},
   "outputs": [],
   "source": [
    "()"
   ]
  }
 ],
 "metadata": {
  "kernelspec": {
   "display_name": "Python 3",
   "language": "python",
   "name": "python3"
  },
  "language_info": {
   "codemirror_mode": {
    "name": "ipython",
    "version": 3
   },
   "file_extension": ".py",
   "mimetype": "text/x-python",
   "name": "python",
   "nbconvert_exporter": "python",
   "pygments_lexer": "ipython3",
   "version": "3.8.5"
  }
 },
 "nbformat": 4,
 "nbformat_minor": 4
}
